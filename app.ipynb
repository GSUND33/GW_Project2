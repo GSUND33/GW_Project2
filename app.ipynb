{
 "cells": [
  {
   "cell_type": "code",
   "execution_count": null,
   "metadata": {},
   "outputs": [],
   "source": [
    "#pip install flask-cors\n"
   ]
  },
  {
   "cell_type": "code",
   "execution_count": 1,
   "metadata": {},
   "outputs": [],
   "source": [
    "import pandas as pd\n",
    "import sqlalchemy\n",
    "import pymysql\n",
    "import sys\n",
    "from pandas.io.json import json_normalize\n",
    "pymysql.install_as_MySQLdb()"
   ]
  },
  {
   "cell_type": "code",
   "execution_count": 2,
   "metadata": {},
   "outputs": [],
   "source": [
    "\n",
    "from sqlalchemy import create_engine\n",
    "from sqlalchemy.ext.automap import automap_base\n",
    "from sqlalchemy.orm import Session\n"
   ]
  },
  {
   "cell_type": "code",
   "execution_count": 3,
   "metadata": {},
   "outputs": [],
   "source": [
    "from flask import (\n",
    "    Flask,\n",
    "    render_template,\n",
    "    jsonify,\n",
    "    request)"
   ]
  },
  {
   "cell_type": "code",
   "execution_count": 4,
   "metadata": {},
   "outputs": [],
   "source": [
    "from flask_cors import CORS"
   ]
  },
  {
   "cell_type": "code",
   "execution_count": 5,
   "metadata": {},
   "outputs": [],
   "source": [
    "from sqlalchemy import create_engine"
   ]
  },
  {
   "cell_type": "code",
   "execution_count": 6,
   "metadata": {},
   "outputs": [],
   "source": [
    "#Keep config file for our info. \n",
    "from config import remote_db_endpoint, remote_db_port\n",
    "from config import remote_gwsis_dbname, remote_gwsis_dbuser, remote_gwsis_dbpwd"
   ]
  },
  {
   "cell_type": "code",
   "execution_count": 7,
   "metadata": {},
   "outputs": [],
   "source": [
    "#Create Cloud DB Connection. \n",
    "engine = create_engine(f\"mysql+pymysql://{remote_gwsis_dbuser}:{remote_gwsis_dbpwd}@{remote_db_endpoint}:{remote_db_port}/{remote_gwsis_dbname}\")"
   ]
  },
  {
   "cell_type": "code",
   "execution_count": 8,
   "metadata": {},
   "outputs": [],
   "source": [
    "\n",
    "# Create remote DB connection.\n",
    "conn = engine.connect()   "
   ]
  },
  {
   "cell_type": "code",
   "execution_count": 9,
   "metadata": {},
   "outputs": [
    {
     "data": {
      "text/plain": [
<<<<<<< HEAD
       "<flask_cors.extension.CORS at 0x20dbc357f98>"
=======
       "<flask_cors.extension.CORS at 0x12ef4864208>"
>>>>>>> 6db9be855a5f4dd9c416b932d618307d6c569a14
      ]
     },
     "execution_count": 9,
     "metadata": {},
     "output_type": "execute_result"
    }
   ],
   "source": [
    "app = Flask(__name__)\n",
    "CORS(app)\n",
    "\n",
    "#app.config['SQLALCHEMY_DATABASE_URI'] = \"\"\n",
    "\n",
    "#db = SQLAlchemy(app)"
   ]
  },
  {
   "cell_type": "code",
   "execution_count": null,
   "metadata": {},
   "outputs": [],
   "source": []
  },
  {
   "cell_type": "code",
   "execution_count": null,
   "metadata": {},
   "outputs": [],
   "source": []
  },
  {
   "cell_type": "code",
   "execution_count": 14,
   "metadata": {
    "scrolled": true
   },
   "outputs": [
    {
<<<<<<< HEAD
     "ename": "AssertionError",
     "evalue": "View function mapping is overwriting an existing endpoint function: postJsonHandler",
     "output_type": "error",
     "traceback": [
      "\u001b[1;31m---------------------------------------------------------------------------\u001b[0m",
      "\u001b[1;31mAssertionError\u001b[0m                            Traceback (most recent call last)",
      "\u001b[1;32m<ipython-input-14-d61ddec796cd>\u001b[0m in \u001b[0;36m<module>\u001b[1;34m\u001b[0m\n\u001b[1;32m----> 1\u001b[1;33m \u001b[1;33m@\u001b[0m\u001b[0mapp\u001b[0m\u001b[1;33m.\u001b[0m\u001b[0mroute\u001b[0m\u001b[1;33m(\u001b[0m\u001b[1;34m'/postjson'\u001b[0m\u001b[1;33m,\u001b[0m \u001b[0mmethods\u001b[0m \u001b[1;33m=\u001b[0m \u001b[1;33m[\u001b[0m\u001b[1;34m'POST'\u001b[0m\u001b[1;33m]\u001b[0m\u001b[1;33m)\u001b[0m\u001b[1;33m\u001b[0m\u001b[1;33m\u001b[0m\u001b[0m\n\u001b[0m\u001b[0;32m      2\u001b[0m \u001b[1;32mdef\u001b[0m \u001b[0mpostJsonHandler\u001b[0m\u001b[1;33m(\u001b[0m\u001b[1;33m)\u001b[0m\u001b[1;33m:\u001b[0m\u001b[1;33m\u001b[0m\u001b[1;33m\u001b[0m\u001b[0m\n\u001b[0;32m      3\u001b[0m     \u001b[0mprint\u001b[0m \u001b[1;33m(\u001b[0m\u001b[0mrequest\u001b[0m\u001b[1;33m.\u001b[0m\u001b[0mis_json\u001b[0m\u001b[1;33m)\u001b[0m\u001b[1;33m\u001b[0m\u001b[1;33m\u001b[0m\u001b[0m\n\u001b[0;32m      4\u001b[0m     \u001b[0mcontent\u001b[0m \u001b[1;33m=\u001b[0m \u001b[0mrequest\u001b[0m\u001b[1;33m.\u001b[0m\u001b[0mget_json\u001b[0m\u001b[1;33m(\u001b[0m\u001b[1;33m)\u001b[0m\u001b[1;33m\u001b[0m\u001b[1;33m\u001b[0m\u001b[0m\n\u001b[0;32m      5\u001b[0m     \u001b[0mprint\u001b[0m\u001b[1;33m(\u001b[0m\u001b[0mcontent\u001b[0m\u001b[1;33m)\u001b[0m\u001b[1;33m\u001b[0m\u001b[1;33m\u001b[0m\u001b[0m\n",
      "\u001b[1;32m~\\Anaconda3\\lib\\site-packages\\flask\\app.py\u001b[0m in \u001b[0;36mdecorator\u001b[1;34m(f)\u001b[0m\n\u001b[0;32m   1312\u001b[0m         \u001b[1;32mdef\u001b[0m \u001b[0mdecorator\u001b[0m\u001b[1;33m(\u001b[0m\u001b[0mf\u001b[0m\u001b[1;33m)\u001b[0m\u001b[1;33m:\u001b[0m\u001b[1;33m\u001b[0m\u001b[1;33m\u001b[0m\u001b[0m\n\u001b[0;32m   1313\u001b[0m             \u001b[0mendpoint\u001b[0m \u001b[1;33m=\u001b[0m \u001b[0moptions\u001b[0m\u001b[1;33m.\u001b[0m\u001b[0mpop\u001b[0m\u001b[1;33m(\u001b[0m\u001b[1;34m\"endpoint\"\u001b[0m\u001b[1;33m,\u001b[0m \u001b[1;32mNone\u001b[0m\u001b[1;33m)\u001b[0m\u001b[1;33m\u001b[0m\u001b[1;33m\u001b[0m\u001b[0m\n\u001b[1;32m-> 1314\u001b[1;33m             \u001b[0mself\u001b[0m\u001b[1;33m.\u001b[0m\u001b[0madd_url_rule\u001b[0m\u001b[1;33m(\u001b[0m\u001b[0mrule\u001b[0m\u001b[1;33m,\u001b[0m \u001b[0mendpoint\u001b[0m\u001b[1;33m,\u001b[0m \u001b[0mf\u001b[0m\u001b[1;33m,\u001b[0m \u001b[1;33m**\u001b[0m\u001b[0moptions\u001b[0m\u001b[1;33m)\u001b[0m\u001b[1;33m\u001b[0m\u001b[1;33m\u001b[0m\u001b[0m\n\u001b[0m\u001b[0;32m   1315\u001b[0m             \u001b[1;32mreturn\u001b[0m \u001b[0mf\u001b[0m\u001b[1;33m\u001b[0m\u001b[1;33m\u001b[0m\u001b[0m\n\u001b[0;32m   1316\u001b[0m \u001b[1;33m\u001b[0m\u001b[0m\n",
      "\u001b[1;32m~\\Anaconda3\\lib\\site-packages\\flask\\app.py\u001b[0m in \u001b[0;36mwrapper_func\u001b[1;34m(self, *args, **kwargs)\u001b[0m\n\u001b[0;32m     96\u001b[0m                 \u001b[1;34m\"before the application starts serving requests.\"\u001b[0m\u001b[1;33m\u001b[0m\u001b[1;33m\u001b[0m\u001b[0m\n\u001b[0;32m     97\u001b[0m             )\n\u001b[1;32m---> 98\u001b[1;33m         \u001b[1;32mreturn\u001b[0m \u001b[0mf\u001b[0m\u001b[1;33m(\u001b[0m\u001b[0mself\u001b[0m\u001b[1;33m,\u001b[0m \u001b[1;33m*\u001b[0m\u001b[0margs\u001b[0m\u001b[1;33m,\u001b[0m \u001b[1;33m**\u001b[0m\u001b[0mkwargs\u001b[0m\u001b[1;33m)\u001b[0m\u001b[1;33m\u001b[0m\u001b[1;33m\u001b[0m\u001b[0m\n\u001b[0m\u001b[0;32m     99\u001b[0m \u001b[1;33m\u001b[0m\u001b[0m\n\u001b[0;32m    100\u001b[0m     \u001b[1;32mreturn\u001b[0m \u001b[0mupdate_wrapper\u001b[0m\u001b[1;33m(\u001b[0m\u001b[0mwrapper_func\u001b[0m\u001b[1;33m,\u001b[0m \u001b[0mf\u001b[0m\u001b[1;33m)\u001b[0m\u001b[1;33m\u001b[0m\u001b[1;33m\u001b[0m\u001b[0m\n",
      "\u001b[1;32m~\\Anaconda3\\lib\\site-packages\\flask\\app.py\u001b[0m in \u001b[0;36madd_url_rule\u001b[1;34m(self, rule, endpoint, view_func, provide_automatic_options, **options)\u001b[0m\n\u001b[0;32m   1281\u001b[0m                 raise AssertionError(\n\u001b[0;32m   1282\u001b[0m                     \u001b[1;34m\"View function mapping is overwriting an \"\u001b[0m\u001b[1;33m\u001b[0m\u001b[1;33m\u001b[0m\u001b[0m\n\u001b[1;32m-> 1283\u001b[1;33m                     \u001b[1;34m\"existing endpoint function: %s\"\u001b[0m \u001b[1;33m%\u001b[0m \u001b[0mendpoint\u001b[0m\u001b[1;33m\u001b[0m\u001b[1;33m\u001b[0m\u001b[0m\n\u001b[0m\u001b[0;32m   1284\u001b[0m                 )\n\u001b[0;32m   1285\u001b[0m             \u001b[0mself\u001b[0m\u001b[1;33m.\u001b[0m\u001b[0mview_functions\u001b[0m\u001b[1;33m[\u001b[0m\u001b[0mendpoint\u001b[0m\u001b[1;33m]\u001b[0m \u001b[1;33m=\u001b[0m \u001b[0mview_func\u001b[0m\u001b[1;33m\u001b[0m\u001b[1;33m\u001b[0m\u001b[0m\n",
      "\u001b[1;31mAssertionError\u001b[0m: View function mapping is overwriting an existing endpoint function: postJsonHandler"
=======
     "name": "stdout",
     "output_type": "stream",
     "text": [
      " * Serving Flask app \"__main__\" (lazy loading)\n",
      " * Environment: production\n",
      "   WARNING: This is a development server. Do not use it in a production deployment.\n",
      "   Use a production WSGI server instead.\n",
      " * Debug mode: off\n"
     ]
    },
    {
     "name": "stderr",
     "output_type": "stream",
     "text": [
      " * Running on http://127.0.0.1:5000/ (Press CTRL+C to quit)\n",
      "127.0.0.1 - - [02/Feb/2020 11:24:30] \"OPTIONS /postjson HTTP/1.1\" 200 -\n",
      "[2020-02-02 11:24:30,872] ERROR in app: Exception on /postjson [POST]\n",
      "Traceback (most recent call last):\n",
      "  File \"C:\\ProgramData\\Anaconda3\\lib\\site-packages\\flask\\app.py\", line 2446, in wsgi_app\n",
      "    response = self.full_dispatch_request()\n",
      "  File \"C:\\ProgramData\\Anaconda3\\lib\\site-packages\\flask\\app.py\", line 1951, in full_dispatch_request\n",
      "    rv = self.handle_user_exception(e)\n",
      "  File \"C:\\ProgramData\\Anaconda3\\lib\\site-packages\\flask_cors\\extension.py\", line 161, in wrapped_function\n",
      "    return cors_after_request(app.make_response(f(*args, **kwargs)))\n",
      "  File \"C:\\ProgramData\\Anaconda3\\lib\\site-packages\\flask\\app.py\", line 1820, in handle_user_exception\n",
      "    reraise(exc_type, exc_value, tb)\n",
      "  File \"C:\\ProgramData\\Anaconda3\\lib\\site-packages\\flask\\_compat.py\", line 39, in reraise\n",
      "    raise value\n",
      "  File \"C:\\ProgramData\\Anaconda3\\lib\\site-packages\\flask\\app.py\", line 1949, in full_dispatch_request\n",
      "    rv = self.dispatch_request()\n",
      "  File \"C:\\ProgramData\\Anaconda3\\lib\\site-packages\\flask\\app.py\", line 1935, in dispatch_request\n",
      "    return self.view_functions[rule.endpoint](**req.view_args)\n",
      "  File \"<ipython-input-11-60557363eb8d>\", line 10, in postJsonHandler\n",
      "    survey_df.columns = [\"Survey_ID\", \"Question\", \"Data_Type\", \"Chart_Type\", \"Correct\", \"reg_date\"]\n",
      "  File \"C:\\ProgramData\\Anaconda3\\lib\\site-packages\\pandas\\core\\generic.py\", line 5192, in __setattr__\n",
      "    return object.__setattr__(self, name, value)\n",
      "  File \"pandas\\_libs\\properties.pyx\", line 67, in pandas._libs.properties.AxisProperty.__set__\n",
      "  File \"C:\\ProgramData\\Anaconda3\\lib\\site-packages\\pandas\\core\\generic.py\", line 690, in _set_axis\n",
      "    self._data.set_axis(axis, labels)\n",
      "  File \"C:\\ProgramData\\Anaconda3\\lib\\site-packages\\pandas\\core\\internals\\managers.py\", line 183, in set_axis\n",
      "    \"values have {new} elements\".format(old=old_len, new=new_len)\n",
      "ValueError: Length mismatch: Expected axis has 2 elements, new values have 6 elements\n",
      "127.0.0.1 - - [02/Feb/2020 11:24:30] \"POST /postjson HTTP/1.1\" 500 -\n"
     ]
    },
    {
     "name": "stdout",
     "output_type": "stream",
     "text": [
      "True\n",
      "{'Survey_ID': '354dc8c96e269a761d7e9c71ae14dff50de74628ace6472e03', 'result': [{'value': 'b. Education and Health Services', 'Question': 'sq_101', 'Data_Type': 'categoryvsvalue', 'Chart_Type': 'Bar_1', 'displayValue': 'b. Education and Health Services', 'correctValue': 'b. Education and Health Services', 'Correct': 1}, {'value': 'a. Maryland', 'Question': 'sq_102', 'Data_Type': 'valuevslocation', 'Chart_Type': 'Map_2', 'displayValue': 'a. Maryland', 'correctValue': 'b. Pennsylvania', 'Correct': 0}, {'value': 'c. 2012', 'Question': 'sq_103', 'Data_Type': 'valuevstime', 'Chart_Type': 'Rings_3', 'displayValue': 'c. 2012', 'correctValue': 'c. 2012', 'Correct': 1}, {'value': 'a. Above', 'Question': 'sq_104', 'Data_Type': 'comparison', 'Chart_Type': 'Bar_4', 'displayValue': 'a. Above', 'correctValue': 'a. Above', 'Correct': 1}, {'value': 'b. Goods-producing', 'Question': 'sq_105', 'Data_Type': 'categoryvsvalue', 'Chart_Type': 'Bubble_5', 'displayValue': 'b. Goods-producing', 'correctValue': 'c. Education and Health Services', 'Correct': 0}, {'value': 'd. MD', 'Question': 'sq_106', 'Data_Type': 'valuevslocation', 'Chart_Type': 'Bar_6', 'displayValue': 'd. MD', 'correctValue': 'c. PA', 'Correct': 0}, {'value': 'b. New York', 'Question': 'sq_107', 'Data_Type': 'valuevsvalue', 'Chart_Type': 'Bubble_7', 'displayValue': 'b. New York', 'correctValue': 'b. New York', 'Correct': 1}, {'value': 'd. 2015', 'Question': 'sq_108', 'Data_Type': 'valuevstime', 'Chart_Type': 'Table_8', 'displayValue': 'd. 2015', 'correctValue': 'b. 2012', 'Correct': 0}, {'value': 'a. Below', 'Question': 'sq_109', 'Data_Type': 'comparison', 'Chart_Type': 'Table_9', 'displayValue': 'a. Below', 'correctValue': 'b. Above', 'Correct': 0}, {'value': 'b. Goods-producing', 'Question': 'sq_110', 'Data_Type': 'categoryvsvalue', 'Chart_Type': 'Tree_10', 'displayValue': 'b. Goods-producing', 'correctValue': 'd. Education and Health Services', 'Correct': 0}, {'value': 'a. AZ', 'Question': 'sq_111', 'Data_Type': 'valuevsvalue', 'Chart_Type': 'Scatter_11', 'displayValue': 'a. AZ', 'correctValue': 'd. NY', 'Correct': 0}, {'value': 'b. Above', 'Question': 'sq_112', 'Data_Type': 'comparison', 'Chart_Type': 'Pie_12', 'displayValue': 'b. Above', 'correctValue': 'b. Above', 'Correct': 1}, {'value': 'd. 2015', 'Question': 'sq_113', 'Data_Type': 'valuevstime', 'Chart_Type': 'Line_13', 'displayValue': 'd. 2015', 'correctValue': 'a. 2012', 'Correct': 0}, {'value': 'c. New Hampshire', 'Question': 'sq_114', 'Data_Type': 'valuevslocation', 'Chart_Type': 'Map_14', 'displayValue': 'c. New Hampshire', 'correctValue': 'a. Pennsylvania', 'Correct': 0}, {'value': 'd. Trade, Transportation, and Utilities', 'Question': 'sq_115', 'Data_Type': 'categoryvsvalue', 'Chart_Type': 'Pie_15', 'displayValue': 'd. Trade, Transportation, and Utilities', 'correctValue': 'a. Education and Health Services', 'Correct': 0}]}\n"
>>>>>>> 6db9be855a5f4dd9c416b932d618307d6c569a14
     ]
    }
   ],
   "source": [
    "\n",
    "@app.route('/postjson', methods = ['POST'])\n",
    "def postJsonHandler():\n",
    "    print (request.is_json)\n",
    "    content = request.get_json()\n",
    "    print(content)\n",
    "    #con_list = [(survey_id, question, data_type, chart_type, correct, reg_date) for  survey_id, question, data_type, chart_type, correct, reg_date in content.items()]\n",
    "    con_list = list(content.items())  # d.items ()\n",
    "    survey_df = pd.DataFrame(con_list)\n",
    "    survey_df.columns = [\"Survey_ID\", \"Question\", \"Data_Type\", \"Chart_Type\", \"Correct\", \"reg_date\"]\n",
    "    print (survey_df)\n",
    "       \n",
    "    #[print(key, value) for key, value in content.items()] \n",
    "  \n",
    "\n",
    "    survey_df.to_sql(con=conn, name='survey_results', if_exists='append', index=False)\n",
    "    #session.commit()\n",
    "    return jsonify(content)\n",
    "\n",
    "\n",
    "\n",
    "\n",
    "\n",
    "\n",
    " \n",
    "\n",
    "    \n",
    "    \n",
    "#     for key, value in content.items():\n",
    "#         setattr(survey_results, key, value) \n",
    "\n",
    "\n",
    "app.run(host='127.0.0.1', port= 5000)"
   ]
  },
  {
   "cell_type": "code",
   "execution_count": null,
   "metadata": {},
   "outputs": [],
   "source": []
  },
  {
   "cell_type": "code",
   "execution_count": 13,
   "metadata": {},
   "outputs": [
    {
     "ename": "NameError",
     "evalue": "name 'content' is not defined",
     "output_type": "error",
     "traceback": [
      "\u001b[1;31m---------------------------------------------------------------------------\u001b[0m",
      "\u001b[1;31mNameError\u001b[0m                                 Traceback (most recent call last)",
      "\u001b[1;32m<ipython-input-13-66549466c79f>\u001b[0m in \u001b[0;36m<module>\u001b[1;34m\u001b[0m\n\u001b[1;32m----> 1\u001b[1;33m \u001b[1;32mfor\u001b[0m \u001b[0mj\u001b[0m \u001b[1;32min\u001b[0m \u001b[0mcontent\u001b[0m\u001b[1;33m.\u001b[0m\u001b[0mitems\u001b[0m\u001b[1;33m(\u001b[0m\u001b[1;33m)\u001b[0m\u001b[1;33m:\u001b[0m\u001b[1;33m\u001b[0m\u001b[1;33m\u001b[0m\u001b[0m\n\u001b[0m\u001b[0;32m      2\u001b[0m     \u001b[0mprint\u001b[0m\u001b[1;33m(\u001b[0m\u001b[0mj\u001b[0m\u001b[1;33m)\u001b[0m\u001b[1;33m\u001b[0m\u001b[1;33m\u001b[0m\u001b[0m\n",
      "\u001b[1;31mNameError\u001b[0m: name 'content' is not defined"
     ]
    }
   ],
   "source": [
    "\n",
    "for j in content.items():\n",
    "    print(j)"
   ]
  },
  {
   "cell_type": "code",
   "execution_count": 11,
   "metadata": {},
   "outputs": [
    {
     "ename": "SyntaxError",
     "evalue": "invalid syntax (<ipython-input-11-631e3aad0d60>, line 2)",
     "output_type": "error",
     "traceback": [
      "\u001b[1;36m  File \u001b[1;32m\"<ipython-input-11-631e3aad0d60>\"\u001b[1;36m, line \u001b[1;32m2\u001b[0m\n\u001b[1;33m    print json.dumps(parsed, indent=4, sort_keys=True)\u001b[0m\n\u001b[1;37m             ^\u001b[0m\n\u001b[1;31mSyntaxError\u001b[0m\u001b[1;31m:\u001b[0m invalid syntax\n"
     ]
    }
   ],
   "source": [
    "parsed = json.loads(content)\n",
    "print json.dumps(parsed, indent=4, sort_keys=True)"
   ]
  },
  {
   "cell_type": "code",
   "execution_count": null,
   "metadata": {},
   "outputs": [],
   "source": [
    "\n",
    "# def update_survey():\n",
    "#     orders_entries = []\n",
    "#     for orders in data[\"all_orders\"]:\n",
    "#         new_entry = SalesOrders(order_id=orders['id'],\n",
    "#                                 order_number=orders['number'])\n",
    "#         orders_entries.append(new_entry)\n",
    "#     db.session.add_all(orders_entries)\n",
    "#     db.session.commit()\n",
    "\n",
    "\n",
    "# if __name__ == \"__main__\":\n",
    "#     app.run(debug=True)"
   ]
  },
  {
   "cell_type": "code",
   "execution_count": null,
   "metadata": {},
   "outputs": [],
   "source": [
    "# @app.route(\"/send\", methods=[\"GET\", \"POST\"])\n",
    "# def send():\n",
    "#     if request.method == \"POST\":\n",
    "#         nickname = request.form[\"nickname\"]\n",
    "#         age = request.form[\"age\"]\n",
    "#         pet = Pet(nickname=nickname, age=age)\n",
    "#         db.session.add(pet)\n",
    "#         db.session.commit()\n",
    "\n",
    "#         return \"Thanks for the form data!\"\n",
    "\n",
    "#     return render_template(\"form.html\")"
   ]
  }
 ],
 "metadata": {
  "kernelspec": {
   "display_name": "Python 3",
   "language": "python",
   "name": "python3"
  },
  "language_info": {
   "codemirror_mode": {
    "name": "ipython",
    "version": 3
   },
   "file_extension": ".py",
   "mimetype": "text/x-python",
   "name": "python",
   "nbconvert_exporter": "python",
   "pygments_lexer": "ipython3",
   "version": "3.7.3"
  }
 },
 "nbformat": 4,
 "nbformat_minor": 2
}
