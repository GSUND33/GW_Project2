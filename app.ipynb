{
 "cells": [
  {
   "cell_type": "code",
   "execution_count": 1,
   "metadata": {},
   "outputs": [],
   "source": [
    "#pip install flask-cors\n"
   ]
  },
  {
   "cell_type": "code",
   "execution_count": 2,
   "metadata": {},
   "outputs": [],
   "source": [
    "import pandas as pd\n",
    "import sqlalchemy\n",
    "import pymysql\n",
    "import sys\n",
    "from pandas.io.json import json_normalize\n",
    "pymysql.install_as_MySQLdb()"
   ]
  },
  {
   "cell_type": "code",
   "execution_count": 3,
   "metadata": {},
   "outputs": [],
   "source": [
    "\n",
    "from sqlalchemy import create_engine\n",
    "from sqlalchemy.ext.automap import automap_base\n",
    "from sqlalchemy.orm import Session\n"
   ]
  },
  {
   "cell_type": "code",
   "execution_count": 4,
   "metadata": {},
   "outputs": [],
   "source": [
    "from flask import (\n",
    "    Flask,\n",
    "    render_template,\n",
    "    jsonify,\n",
    "    request)"
   ]
  },
  {
   "cell_type": "code",
   "execution_count": 5,
   "metadata": {},
   "outputs": [],
   "source": [
    "from flask_cors import CORS"
   ]
  },
  {
   "cell_type": "code",
   "execution_count": 6,
   "metadata": {},
   "outputs": [],
   "source": [
    "from sqlalchemy import create_engine"
   ]
  },
  {
   "cell_type": "code",
   "execution_count": 7,
   "metadata": {},
   "outputs": [],
   "source": [
    "#Keep config file for our info. \n",
    "from config import remote_db_endpoint, remote_db_port\n",
    "from config import remote_gwsis_dbname, remote_gwsis_dbuser, remote_gwsis_dbpwd"
   ]
  },
  {
   "cell_type": "code",
   "execution_count": 8,
   "metadata": {},
   "outputs": [],
   "source": [
    "#Create Cloud DB Connection. \n",
    "engine = create_engine(f\"mysql+pymysql://{remote_gwsis_dbuser}:{remote_gwsis_dbpwd}@{remote_db_endpoint}:{remote_db_port}/{remote_gwsis_dbname}\")"
   ]
  },
  {
   "cell_type": "code",
   "execution_count": 9,
   "metadata": {},
   "outputs": [],
   "source": [
    "\n",
    "# Create remote DB connection.\n",
    "conn = engine.connect()   "
   ]
  },
  {
   "cell_type": "code",
   "execution_count": 10,
   "metadata": {},
   "outputs": [
    {
     "data": {
      "text/plain": [
       "<flask_cors.extension.CORS at 0x115b12ee348>"
      ]
     },
     "execution_count": 10,
     "metadata": {},
     "output_type": "execute_result"
    }
   ],
   "source": [
    "app = Flask(__name__)\n",
    "CORS(app)\n",
    "\n",
    "#app.config['SQLALCHEMY_DATABASE_URI'] = \"\"\n",
    "\n",
    "#db = SQLAlchemy(app)"
   ]
  },
  {
   "cell_type": "code",
   "execution_count": null,
   "metadata": {},
   "outputs": [],
   "source": []
  },
  {
   "cell_type": "code",
   "execution_count": null,
   "metadata": {},
   "outputs": [],
   "source": []
  },
  {
   "cell_type": "code",
   "execution_count": null,
   "metadata": {
    "scrolled": true
   },
   "outputs": [
    {
     "name": "stdout",
     "output_type": "stream",
     "text": [
      " * Serving Flask app \"__main__\" (lazy loading)\n",
      " * Environment: production\n",
      "   WARNING: This is a development server. Do not use it in a production deployment.\n",
      "   Use a production WSGI server instead.\n",
      " * Debug mode: off\n"
     ]
    },
    {
     "name": "stderr",
     "output_type": "stream",
     "text": [
      " * Running on http://127.0.0.1:5000/ (Press CTRL+C to quit)\n",
      "127.0.0.1 - - [02/Feb/2020 13:36:39] \"OPTIONS /postjson HTTP/1.1\" 200 -\n",
      "127.0.0.1 - - [02/Feb/2020 13:36:39] \"POST /postjson HTTP/1.1\" 200 -\n"
     ]
    },
    {
     "name": "stdout",
     "output_type": "stream",
     "text": [
      "True\n",
      "{'Survey_ID': '0d827a62a258dfe15b3b491ae639d73594810b6da74223b6d8', 'result': [{'value': 'sq_101', 'Data_Type': 'categoryvsvalue', 'Chart_Type': 'Bar_1', 'Correct': 1}, {'value': 'sq_102', 'Data_Type': 'valuevslocation', 'Chart_Type': 'Map_2', 'Correct': 1}, {'value': 'sq_103', 'Data_Type': 'valuevstime', 'Chart_Type': 'Rings_3', 'Correct': 1}, {'value': 'sq_104', 'Data_Type': 'comparison', 'Chart_Type': 'Bar_4', 'Correct': 1}, {'value': 'sq_105', 'Data_Type': 'categoryvsvalue', 'Chart_Type': 'Bubble_5', 'Correct': 1}, {'value': 'sq_106', 'Data_Type': 'valuevslocation', 'Chart_Type': 'Bar_6', 'Correct': 1}, {'value': 'sq_107', 'Data_Type': 'valuevsvalue', 'Chart_Type': 'Bubble_7', 'Correct': 1}, {'value': 'sq_108', 'Data_Type': 'valuevstime', 'Chart_Type': 'Table_8', 'Correct': 1}, {'value': 'sq_109', 'Data_Type': 'comparison', 'Chart_Type': 'Table_9', 'Correct': 1}, {'value': 'sq_110', 'Data_Type': 'categoryvsvalue', 'Chart_Type': 'Tree_10', 'Correct': 1}, {'value': 'sq_111', 'Data_Type': 'valuevsvalue', 'Chart_Type': 'Scatter_11', 'Correct': 1}, {'value': 'sq_112', 'Data_Type': 'comparison', 'Chart_Type': 'Pie_12', 'Correct': 1}, {'value': 'sq_113', 'Data_Type': 'valuevstime', 'Chart_Type': 'Line_13', 'Correct': 1}, {'value': 'sq_114', 'Data_Type': 'valuevslocation', 'Chart_Type': 'Map_14', 'Correct': 1}, {'value': 'sq_115', 'Data_Type': 'categoryvsvalue', 'Chart_Type': 'Pie_15', 'Correct': 1}]}\n",
      "0d827a62a258dfe15b3b491ae639d73594810b6da74223b6d8\n",
      "                                            Survey_ID   value  \\\n",
      "0   0d827a62a258dfe15b3b491ae639d73594810b6da74223...  sq_101   \n",
      "1   0d827a62a258dfe15b3b491ae639d73594810b6da74223...  sq_102   \n",
      "2   0d827a62a258dfe15b3b491ae639d73594810b6da74223...  sq_103   \n",
      "3   0d827a62a258dfe15b3b491ae639d73594810b6da74223...  sq_104   \n",
      "4   0d827a62a258dfe15b3b491ae639d73594810b6da74223...  sq_105   \n",
      "5   0d827a62a258dfe15b3b491ae639d73594810b6da74223...  sq_106   \n",
      "6   0d827a62a258dfe15b3b491ae639d73594810b6da74223...  sq_107   \n",
      "7   0d827a62a258dfe15b3b491ae639d73594810b6da74223...  sq_108   \n",
      "8   0d827a62a258dfe15b3b491ae639d73594810b6da74223...  sq_109   \n",
      "9   0d827a62a258dfe15b3b491ae639d73594810b6da74223...  sq_110   \n",
      "10  0d827a62a258dfe15b3b491ae639d73594810b6da74223...  sq_111   \n",
      "11  0d827a62a258dfe15b3b491ae639d73594810b6da74223...  sq_112   \n",
      "12  0d827a62a258dfe15b3b491ae639d73594810b6da74223...  sq_113   \n",
      "13  0d827a62a258dfe15b3b491ae639d73594810b6da74223...  sq_114   \n",
      "14  0d827a62a258dfe15b3b491ae639d73594810b6da74223...  sq_115   \n",
      "\n",
      "          Data_Type  Chart_Type  Correct  \n",
      "0   categoryvsvalue       Bar_1        1  \n",
      "1   valuevslocation       Map_2        1  \n",
      "2       valuevstime     Rings_3        1  \n",
      "3        comparison       Bar_4        1  \n",
      "4   categoryvsvalue    Bubble_5        1  \n",
      "5   valuevslocation       Bar_6        1  \n",
      "6      valuevsvalue    Bubble_7        1  \n",
      "7       valuevstime     Table_8        1  \n",
      "8        comparison     Table_9        1  \n",
      "9   categoryvsvalue     Tree_10        1  \n",
      "10     valuevsvalue  Scatter_11        1  \n",
      "11       comparison      Pie_12        1  \n",
      "12      valuevstime     Line_13        1  \n",
      "13  valuevslocation      Map_14        1  \n",
      "14  categoryvsvalue      Pie_15        1  \n"
     ]
    },
    {
     "name": "stderr",
     "output_type": "stream",
     "text": [
      "127.0.0.1 - - [02/Feb/2020 13:38:05] \"OPTIONS /postjson HTTP/1.1\" 200 -\n",
      "127.0.0.1 - - [02/Feb/2020 13:38:05] \"POST /postjson HTTP/1.1\" 200 -\n"
     ]
    },
    {
     "name": "stdout",
     "output_type": "stream",
     "text": [
      "True\n",
      "{'Survey_ID': 'fa763cb9c2b2ae4de281945173aaa83f68004940838808c9d6', 'result': [{'value': 'sq_101', 'Data_Type': 'categoryvsvalue', 'Chart_Type': 'Bar_1', 'Correct': 1}, {'value': 'sq_102', 'Data_Type': 'valuevslocation', 'Chart_Type': 'Map_2', 'Correct': 1}, {'value': 'sq_103', 'Data_Type': 'valuevstime', 'Chart_Type': 'Rings_3', 'Correct': 1}, {'value': 'sq_104', 'Data_Type': 'comparison', 'Chart_Type': 'Bar_4', 'Correct': 1}, {'value': 'sq_105', 'Data_Type': 'categoryvsvalue', 'Chart_Type': 'Bubble_5', 'Correct': 1}, {'value': 'sq_106', 'Data_Type': 'valuevslocation', 'Chart_Type': 'Bar_6', 'Correct': 1}, {'value': 'sq_107', 'Data_Type': 'valuevsvalue', 'Chart_Type': 'Bubble_7', 'Correct': 1}, {'value': 'sq_108', 'Data_Type': 'valuevstime', 'Chart_Type': 'Table_8', 'Correct': 1}, {'value': 'sq_109', 'Data_Type': 'comparison', 'Chart_Type': 'Table_9', 'Correct': 1}, {'value': 'sq_110', 'Data_Type': 'categoryvsvalue', 'Chart_Type': 'Tree_10', 'Correct': 1}, {'value': 'sq_111', 'Data_Type': 'valuevsvalue', 'Chart_Type': 'Scatter_11', 'Correct': 1}, {'value': 'sq_112', 'Data_Type': 'comparison', 'Chart_Type': 'Pie_12', 'Correct': 1}, {'value': 'sq_113', 'Data_Type': 'valuevstime', 'Chart_Type': 'Line_13', 'Correct': 1}, {'value': 'sq_114', 'Data_Type': 'valuevslocation', 'Chart_Type': 'Map_14', 'Correct': 1}, {'value': 'sq_115', 'Data_Type': 'categoryvsvalue', 'Chart_Type': 'Pie_15', 'Correct': 1}]}\n",
      "fa763cb9c2b2ae4de281945173aaa83f68004940838808c9d6\n",
      "                                            Survey_ID   value  \\\n",
      "0   fa763cb9c2b2ae4de281945173aaa83f68004940838808...  sq_101   \n",
      "1   fa763cb9c2b2ae4de281945173aaa83f68004940838808...  sq_102   \n",
      "2   fa763cb9c2b2ae4de281945173aaa83f68004940838808...  sq_103   \n",
      "3   fa763cb9c2b2ae4de281945173aaa83f68004940838808...  sq_104   \n",
      "4   fa763cb9c2b2ae4de281945173aaa83f68004940838808...  sq_105   \n",
      "5   fa763cb9c2b2ae4de281945173aaa83f68004940838808...  sq_106   \n",
      "6   fa763cb9c2b2ae4de281945173aaa83f68004940838808...  sq_107   \n",
      "7   fa763cb9c2b2ae4de281945173aaa83f68004940838808...  sq_108   \n",
      "8   fa763cb9c2b2ae4de281945173aaa83f68004940838808...  sq_109   \n",
      "9   fa763cb9c2b2ae4de281945173aaa83f68004940838808...  sq_110   \n",
      "10  fa763cb9c2b2ae4de281945173aaa83f68004940838808...  sq_111   \n",
      "11  fa763cb9c2b2ae4de281945173aaa83f68004940838808...  sq_112   \n",
      "12  fa763cb9c2b2ae4de281945173aaa83f68004940838808...  sq_113   \n",
      "13  fa763cb9c2b2ae4de281945173aaa83f68004940838808...  sq_114   \n",
      "14  fa763cb9c2b2ae4de281945173aaa83f68004940838808...  sq_115   \n",
      "\n",
      "          Data_Type  Chart_Type  Correct  \n",
      "0   categoryvsvalue       Bar_1        1  \n",
      "1   valuevslocation       Map_2        1  \n",
      "2       valuevstime     Rings_3        1  \n",
      "3        comparison       Bar_4        1  \n",
      "4   categoryvsvalue    Bubble_5        1  \n",
      "5   valuevslocation       Bar_6        1  \n",
      "6      valuevsvalue    Bubble_7        1  \n",
      "7       valuevstime     Table_8        1  \n",
      "8        comparison     Table_9        1  \n",
      "9   categoryvsvalue     Tree_10        1  \n",
      "10     valuevsvalue  Scatter_11        1  \n",
      "11       comparison      Pie_12        1  \n",
      "12      valuevstime     Line_13        1  \n",
      "13  valuevslocation      Map_14        1  \n",
      "14  categoryvsvalue      Pie_15        1  \n"
     ]
    }
   ],
   "source": [
    "\n",
    "@app.route('/postjson', methods = ['POST'])\n",
    "def postJsonHandler():\n",
    "    print (request.is_json)\n",
    "    # read in JSON from POST requuest into content \n",
    "    content = request.get_json()\n",
    "    print(content)\n",
    "    \n",
    "    \n",
    "    #extract Survey ID from first entry in JSON \"Survey ID\"\n",
    "    survey_id = (content[\"Survey_ID\"])\n",
    "    print(survey_id)\n",
    "    \n",
    "    \n",
    "    ## Create Survey Dataframe form \"result\" entry in JSON\n",
    "    survey_df = pd.DataFrame(content[\"result\"])\n",
    "   \n",
    "    #set column names of dataframe\n",
    "   \n",
    "   \n",
    "    survey_df.insert(0, \"Survey_ID\", 'null')\n",
    "    survey_df[\"Survey_ID\"] = survey_id\n",
    "    survey_df.columns = [\"Survey_ID\", \"value\", \"Data_Type\", \"Chart_Type\", \"Correct\"]\n",
    "    print (survey_df)\n",
    "       \n",
    "    #[print(key, value) for key, value in content.items()] \n",
    "  \n",
    "    #write surve.df to SQL \n",
    "    survey_df.to_sql(con=conn, name='survey_results', if_exists='append', index=False)\n",
    "    #session.commit()\n",
    "    return jsonify(content)\n",
    "\n",
    "#     for key, value in content.items():\n",
    "#         setattr(survey_results, key, value) \n",
    "\n",
    "\n",
    "app.run(host='127.0.0.1', port= 5000)"
   ]
  },
  {
   "cell_type": "code",
   "execution_count": null,
   "metadata": {},
   "outputs": [],
   "source": []
  },
  {
   "cell_type": "code",
   "execution_count": null,
   "metadata": {},
   "outputs": [],
   "source": [
    "\n"
   ]
  },
  {
   "cell_type": "code",
   "execution_count": null,
   "metadata": {},
   "outputs": [],
   "source": [
    "parsed = json.loads(content)\n",
    "print json.dumps(parsed, indent=4, sort_keys=True)"
   ]
  },
  {
   "cell_type": "code",
   "execution_count": null,
   "metadata": {},
   "outputs": [],
   "source": [
    "\n",
    "# def update_survey():\n",
    "#     orders_entries = []\n",
    "#     for orders in data[\"all_orders\"]:\n",
    "#         new_entry = SalesOrders(order_id=orders['id'],\n",
    "#                                 order_number=orders['number'])\n",
    "#         orders_entries.append(new_entry)\n",
    "#     db.session.add_all(orders_entries)\n",
    "#     db.session.commit()\n",
    "\n",
    "\n",
    "# if __name__ == \"__main__\":\n",
    "#     app.run(debug=True)"
   ]
  },
  {
   "cell_type": "code",
   "execution_count": null,
   "metadata": {},
   "outputs": [],
   "source": [
    "# @app.route(\"/send\", methods=[\"GET\", \"POST\"])\n",
    "# def send():\n",
    "#     if request.method == \"POST\":\n",
    "#         nickname = request.form[\"nickname\"]\n",
    "#         age = request.form[\"age\"]\n",
    "#         pet = Pet(nickname=nickname, age=age)\n",
    "#         db.session.add(pet)\n",
    "#         db.session.commit()\n",
    "\n",
    "#         return \"Thanks for the form data!\"\n",
    "\n",
    "#     return render_template(\"form.html\")"
   ]
  }
 ],
 "metadata": {
  "kernelspec": {
   "display_name": "Python 3",
   "language": "python",
   "name": "python3"
  },
  "language_info": {
   "codemirror_mode": {
    "name": "ipython",
    "version": 3
   },
   "file_extension": ".py",
   "mimetype": "text/x-python",
   "name": "python",
   "nbconvert_exporter": "python",
   "pygments_lexer": "ipython3",
   "version": "3.7.4"
  }
 },
 "nbformat": 4,
 "nbformat_minor": 2
}
