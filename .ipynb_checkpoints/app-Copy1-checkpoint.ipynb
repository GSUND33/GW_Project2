{
 "cells": [
  {
   "cell_type": "code",
   "execution_count": null,
   "metadata": {},
   "outputs": [],
   "source": [
    "import pandas as pd\n",
    "import sqlalchemy\n",
    "import pymysql\n",
    "import sys\n",
    "pymysql.install_as_MySQLdb()"
   ]
  },
  {
   "cell_type": "code",
   "execution_count": 2,
   "metadata": {},
   "outputs": [],
   "source": [
    "from flask import (\n",
    "    Flask,\n",
    "    render_template,\n",
    "    jsonify,\n",
    "    request)"
   ]
  },
  {
   "cell_type": "code",
   "execution_count": 3,
   "metadata": {},
   "outputs": [],
   "source": [
    "from sqlalchemy import create_engine"
   ]
  },
  {
   "cell_type": "code",
   "execution_count": 4,
   "metadata": {},
   "outputs": [],
   "source": [
    "#Keep config file for our info. \n",
    "from config import remote_db_endpoint, remote_db_port\n",
    "from config import remote_gwsis_dbname, remote_gwsis_dbuser, remote_gwsis_dbpwd"
   ]
  },
  {
   "cell_type": "code",
   "execution_count": 5,
   "metadata": {},
   "outputs": [],
   "source": [
    "#Create Cloud DB Connection. \n",
    "engine = create_engine(f\"mysql+pymysql://{remote_gwsis_dbuser}:{remote_gwsis_dbpwd}@{remote_db_endpoint}:{remote_db_port}/{remote_gwsis_dbname}\")"
   ]
  },
  {
   "cell_type": "code",
   "execution_count": 6,
   "metadata": {},
   "outputs": [],
   "source": [
    "# Create remote DB connection.\n",
    "conn = engine.connect()   "
   ]
  },
  {
   "cell_type": "code",
   "execution_count": null,
   "metadata": {},
   "outputs": [],
   "source": [
    "app = Flask(__name__)\n",
    "\n",
    "app.config['SQLALCHEMY_DATABASE_URI'] = \"sqlite:///db/db.sqlite\"\n",
    "\n",
    "db = SQLAlchemy(app)"
   ]
  },
  {
   "cell_type": "code",
   "execution_count": null,
   "metadata": {},
   "outputs": [],
   "source": [
    "@app.route('/postjson', methods = ['POST'])\n",
    "def postJsonHandler():\n",
    "    print (request.is_json)\n",
    "    content = request.get_json()\n",
    "    print (content)\n",
    "    return 'JSON posted'\n",
    "  \n",
    "app.run(host='0.0.0.0', port= 5000)"
   ]
  },
  {
   "cell_type": "code",
   "execution_count": null,
   "metadata": {},
   "outputs": [],
   "source": [
    "\n",
    "# def update_survey():\n",
    "#     orders_entries = []\n",
    "#     for orders in data[\"all_orders\"]:\n",
    "#         new_entry = SalesOrders(order_id=orders['id'],\n",
    "#                                 order_number=orders['number'])\n",
    "#         orders_entries.append(new_entry)\n",
    "#     db.session.add_all(orders_entries)\n",
    "#     db.session.commit()\n",
    "\n",
    "\n",
    "# if __name__ == \"__main__\":\n",
    "#     app.run(debug=True)"
   ]
  },
  {
   "cell_type": "code",
   "execution_count": null,
   "metadata": {},
   "outputs": [],
   "source": [
    "# @app.route(\"/send\", methods=[\"GET\", \"POST\"])\n",
    "# def send():\n",
    "#     if request.method == \"POST\":\n",
    "#         nickname = request.form[\"nickname\"]\n",
    "#         age = request.form[\"age\"]\n",
    "#         pet = Pet(nickname=nickname, age=age)\n",
    "#         db.session.add(pet)\n",
    "#         db.session.commit()\n",
    "\n",
    "#         return \"Thanks for the form data!\"\n",
    "\n",
    "#     return render_template(\"form.html\")"
   ]
  }
 ],
 "metadata": {
  "kernelspec": {
   "display_name": "Python 3",
   "language": "python",
   "name": "python3"
  },
  "language_info": {
   "codemirror_mode": {
    "name": "ipython",
    "version": 3
   },
   "file_extension": ".py",
   "mimetype": "text/x-python",
   "name": "python",
   "nbconvert_exporter": "python",
   "pygments_lexer": "ipython3",
   "version": "3.7.4"
  }
 },
 "nbformat": 4,
 "nbformat_minor": 2
}
