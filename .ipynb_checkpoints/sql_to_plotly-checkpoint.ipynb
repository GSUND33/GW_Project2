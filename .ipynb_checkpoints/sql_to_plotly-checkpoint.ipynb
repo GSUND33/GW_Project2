{
 "cells": [
  {
   "cell_type": "code",
   "execution_count": null,
   "metadata": {},
   "outputs": [],
   "source": [
    "#!pip install plotly --upgrade"
   ]
  },
  {
   "cell_type": "code",
   "execution_count": null,
   "metadata": {},
   "outputs": [],
   "source": [
    "#!pip install chart_studio\n",
    "#!pip install graph_objects\n",
    "#!pip install \"notebook>=5.3\" \"ipywidgets>=7.2\"\n",
    "#!pip install jupyterlab==1.2 \"ipywidgets>=7.5\"\n",
    "#!pip install pymysql"
   ]
  },
  {
   "cell_type": "code",
   "execution_count": 1,
   "metadata": {},
   "outputs": [],
   "source": [
    "from chart_studio.plotly import plot, iplot\n",
    "import plotly.graph_objects as go\n",
    "from plotly.subplots import make_subplots\n",
    "import pandas as pd\n",
    "import sqlalchemy\n",
    "import pymysql\n",
    "import sys\n",
    "import os\n",
    "import plotly.io as pio\n",
    "pio.templates.default = \"none\"\n",
    "import plotly.graph_objects as go\n",
    "from plotly.subplots import make_subplots\n",
    "import plotly.express as px\n",
    "pymysql.install_as_MySQLdb()\n",
    "pio.templates.default = \"plotly_white\""
   ]
  },
  {
   "cell_type": "code",
   "execution_count": null,
   "metadata": {},
   "outputs": [],
   "source": [
    "#for d in sys.path:\n",
    "    #print(d)\n",
    "#print(sys.path)\n",
    "#pio.templates.default = \"plotly_white\"\n",
    "\n",
    "#/Users/hannahtate/opt/anaconda3/lib/python3.7/site-packages/config.py"
   ]
  },
  {
   "cell_type": "code",
   "execution_count": 2,
   "metadata": {
    "scrolled": true
   },
   "outputs": [],
   "source": [
    "#If in this file is in the repository, use this.\n",
    "#path = sys.path.append(\"/config_new.py/../../../../../../\")\n",
    "#print(path)\n",
    "config = \"config_new.py\""
   ]
  },
  {
   "cell_type": "code",
   "execution_count": 3,
   "metadata": {},
   "outputs": [],
   "source": [
    "#If file is on your desktop, use this.\n",
    "#path = sys.path.append('.')"
   ]
  },
  {
   "cell_type": "code",
   "execution_count": 4,
   "metadata": {},
   "outputs": [],
   "source": [
    "#path = sys.path.append( '/Users/hannahtate/Desktop/config.py' )\n",
    "#config= sys.path.append('config.py/../..')\n",
    "#config = 'C:\\\\Users\\\\hannahtate\\\\Desktop\\\\config.py'\n",
    "\n",
    "#with open(path, 'w') as f:\n",
    "    #f.write(data)\n",
    "\n",
    "#path = sys.path.append('.')\n",
    "#config = open('config.py')"
   ]
  },
  {
   "cell_type": "code",
   "execution_count": 5,
   "metadata": {},
   "outputs": [],
   "source": [
    "from sqlalchemy import create_engine"
   ]
  },
  {
   "cell_type": "code",
   "execution_count": 6,
   "metadata": {},
   "outputs": [],
   "source": [
    "#Keep config file for our info. \n",
    "from config_new import remote_TM_3_endpoint, remote_TM_3_port\n",
    "from config_new import remote_TM_3_dbname, remote_TM_3_dbuser, remote_TM_3_dbpwd\n"
   ]
  },
  {
   "cell_type": "code",
   "execution_count": 7,
   "metadata": {},
   "outputs": [],
   "source": [
    "# #Create Cloud DB Connection to TM_3 db.\n",
    "engine = create_engine(f\"mysql+pymysql://{remote_TM_3_dbuser}:{remote_TM_3_dbpwd}@{remote_TM_3_endpoint}:{remote_TM_3_port}/TM_3\")\n",
    " # Create remote DB connection.\n",
    "conn = engine.connect()  \n",
    "\n",
    "\n",
    "\n",
    "# #Create Cloud DB Connection survey_results db.\n",
    "#engine_sr = create_engine(f\"mysql+pymysql://{remote_TM_3_dbuser}:{remote_TM_3_dbpwd}@{remote_TM_3_endpoint}:{remote_TM_3_port}/survey_results\")\n",
    "# # Create remote DB connection.\n",
    "#conn_sr = engine_sr.connect()  \n"
   ]
  },
  {
   "cell_type": "code",
   "execution_count": 8,
   "metadata": {},
   "outputs": [
    {
     "name": "stdout",
     "output_type": "stream",
     "text": [
      "         index   FIPS  Year     Region_Name State  \\\n",
      "0            0   1001  2009  Autauga County    AL   \n",
      "1            1   1001  2009            None    AL   \n",
      "2            2   1001  2009  Autauga County    AL   \n",
      "3            3   1001  2009  Autauga County    AL   \n",
      "4            4   1001  2009  Autauga County    AL   \n",
      "...        ...    ...   ...             ...   ...   \n",
      "304857  304857  56045  2018   Weston County    WY   \n",
      "304858  304858  56045  2018   Weston County    WY   \n",
      "304859  304859  56045  2018   Weston County    WY   \n",
      "304860  304860  56045  2018   Weston County    WY   \n",
      "304861  304861  56045  2018   Weston County    WY   \n",
      "\n",
      "                                  Industry  \\\n",
      "0                       Federal Government   \n",
      "1                         State Government   \n",
      "2                         Local Government   \n",
      "3                          Goods-producing   \n",
      "4             Natural resources and mining   \n",
      "...                                    ...   \n",
      "304857                Financial activities   \n",
      "304858  Professional and business services   \n",
      "304859       Education and health services   \n",
      "304860             Leisure and hospitality   \n",
      "304861                      Other services   \n",
      "\n",
      "        Annual_Average_Establishment_Count  Annual_Average_Employment  \\\n",
      "0                                       15                        100   \n",
      "1                                       16                        519   \n",
      "2                                       32                       1995   \n",
      "3                                      159                       1842   \n",
      "4                                       23                        197   \n",
      "...                                    ...                        ...   \n",
      "304857                                  15                         64   \n",
      "304858                                  18                         48   \n",
      "304859                                  34                        210   \n",
      "304860                                  22                        186   \n",
      "304861                                  11                         30   \n",
      "\n",
      "        Annual_Total_Wages  Annual_Average _Pay    Avg_Price  \n",
      "0                4476122.0                44873  144408.3333  \n",
      "1               18717293.0                36093  144408.3333  \n",
      "2               67539151.0                33857  144408.3333  \n",
      "3               91335147.0                49580  144408.3333  \n",
      "4                5506289.0                28022  144408.3333  \n",
      "...                    ...                  ...          ...  \n",
      "304857           3312287.0                51420  151525.0000  \n",
      "304858           1429751.0                29632  151525.0000  \n",
      "304859           5958755.0                28330  151525.0000  \n",
      "304860           2244606.0                12052  151525.0000  \n",
      "304861            928463.0                31297  151525.0000  \n",
      "\n",
      "[304862 rows x 11 columns]\n"
     ]
    }
   ],
   "source": [
    "# # Use this syntax when incorporating survey_results\n",
    "#foo = pd.read_sql(\"SELECT * FROM survey_results\", conn_sr)\n",
    "#foo.head()\n",
    "#print(foo)\n",
    "\n",
    "#\n",
    "\n",
    "# Use this syntax when incorporating BLS_Data\n",
    "foo = pd.read_sql(\"SELECT * FROM BLS_Data\", conn)\n",
    "#foo.head()\n",
    "print(foo)\n",
    "\n",
    "#rows = cursor.fetchall()\n",
    "#str(rows)[0:300]\n",
    "\n",
    "#df = pd.read_json(\"https://insertlinktojsonfile\")\n",
    "#df.head(5)"
   ]
  },
  {
   "cell_type": "code",
   "execution_count": 9,
   "metadata": {},
   "outputs": [],
   "source": [
    "# #Data Frame from Survey results.\n",
    "# survey_df = pd.DataFrame( [[ij for ij in i] for i in foo] )\n",
    "# survey_df.rename(columns={0: 'ID', 1: 'Attempt', 2: 'Question', 3: 'Data Type', 4:'Chart Type', 5:'Correct', 6:'Registration Date'}, inplace=True);\n",
    "# df = survey_df.sort_values(['Chart Type'], ascending=[1]);\n",
    "\n",
    "#Data Frame from BLS Data.\n",
    "bls_df = pd.DataFrame( [[ij for ij in i] for i in foo] )\n",
    "bls_df.rename(columns={0: 'Index', 1: 'FIPS', 2: 'Year', 3: 'Region Name', 4:'State', 5:'Industry', 6:'Annual Average Establishment Count', 7:'Annual Average Employment', 8:'Annual Total Wages', 9:'Annual Average Pay', 10:'Average Price'}, inplace=True);\n",
    "bls_df_year = bls_df.sort_values(['Year'], ascending=[1]);\n",
    "bls_df_industry = bls_df.sort_values(['Industry'], ascending=[1]);\n"
   ]
  },
  {
   "cell_type": "code",
   "execution_count": 10,
   "metadata": {},
   "outputs": [],
   "source": [
    "# Put state in the box.\n",
    "state = bls_df['State']\n",
    "for i in range(len(state)):\n",
    "     try:\n",
    "         state[i] = str(state[i]).decode('utf-8')\n",
    "     except:\n",
    "         state[i] = 'Country name decode error'"
   ]
  },
  {
   "cell_type": "code",
   "execution_count": 12,
   "metadata": {},
   "outputs": [
    {
     "ename": "NameError",
     "evalue": "name 'chart_studio' is not defined",
     "output_type": "error",
     "traceback": [
      "\u001b[0;31m---------------------------------------------------------------------------\u001b[0m",
      "\u001b[0;31mNameError\u001b[0m                                 Traceback (most recent call last)",
      "\u001b[0;32m<ipython-input-12-fa4cac76e9f3>\u001b[0m in \u001b[0;36m<module>\u001b[0;34m\u001b[0m\n\u001b[1;32m     13\u001b[0m \u001b[0mdata\u001b[0m \u001b[0;34m=\u001b[0m \u001b[0;34m[\u001b[0m\u001b[0mtrace1\u001b[0m\u001b[0;34m]\u001b[0m\u001b[0;34m\u001b[0m\u001b[0;34m\u001b[0m\u001b[0m\n\u001b[1;32m     14\u001b[0m \u001b[0mfig\u001b[0m \u001b[0;34m=\u001b[0m \u001b[0mgo\u001b[0m\u001b[0;34m.\u001b[0m\u001b[0mFigure\u001b[0m\u001b[0;34m(\u001b[0m\u001b[0mdata\u001b[0m\u001b[0;34m=\u001b[0m\u001b[0mdata\u001b[0m\u001b[0;34m,\u001b[0m \u001b[0mlayout\u001b[0m\u001b[0;34m=\u001b[0m\u001b[0mlayout\u001b[0m\u001b[0;34m)\u001b[0m\u001b[0;34m\u001b[0m\u001b[0;34m\u001b[0m\u001b[0m\n\u001b[0;32m---> 15\u001b[0;31m \u001b[0mchart_studio\u001b[0m\u001b[0;34m.\u001b[0m\u001b[0miplot\u001b[0m\u001b[0;34m(\u001b[0m\u001b[0mfig\u001b[0m\u001b[0;34m,\u001b[0m \u001b[0mfilename\u001b[0m\u001b[0;34m=\u001b[0m\u001b[0;34m'Year vs Industry'\u001b[0m\u001b[0;34m)\u001b[0m\u001b[0;34m\u001b[0m\u001b[0;34m\u001b[0m\u001b[0m\n\u001b[0m",
      "\u001b[0;31mNameError\u001b[0m: name 'chart_studio' is not defined"
     ]
    }
   ],
   "source": [
    "#Code for a SCATTER plot.\n",
    "trace1 = go.Scatter(\n",
    "    x=bls_df_year['Year'],\n",
    "    y=bls_df_industry['Industry'],\n",
    "    text=state,\n",
    "    mode='markers'\n",
    ")\n",
    "layout = go.Layout(\n",
    "    title='Year vs Industry from MySQL world database',\n",
    "    xaxis=dict( type='log', title='Year' ),\n",
    "    yaxis=dict( title='Industry' )\n",
    ")\n",
    "data = [trace1]\n",
    "fig = go.Figure(data=data, layout=layout)\n",
    "plot.iplot(fig, filename='Year vs Industry')"
   ]
  },
  {
   "cell_type": "code",
   "execution_count": null,
   "metadata": {},
   "outputs": [],
   "source": [
    "# Change BUBBLE SIZE for the SCATTER PLOT code.\n",
    "\n",
    "# (!) Set 'size' values to be proportional to rendered area,\n",
    "#     instead of diameter. This makes the range of bubble sizes smaller\n",
    "sizemode='area'\n",
    "\n",
    "# (!) Set a reference for 'size' values (i.e. a population-to-pixel scaling).\n",
    "#     Here the max bubble area will be on the order of 100 pixels\n",
    "sizeref=df['Population'].max()/1e2**2\n",
    "\n",
    "colors = {\n",
    "    'Asia':\"rgb(255,65,54)\",\n",
    "    'Europe':\"rgb(133,20,75)\",\n",
    "    'Africa':\"rgb(0,116,217)\",\n",
    "    'North America':\"rgb(255,133,27)\",\n",
    "    'South America':\"rgb(23,190,207)\",\n",
    "    'Antarctica':\"rgb(61,153,112)\",\n",
    "    'Oceania':\"rgb(255,220,0)\",\n",
    "}\n",
    "\n",
    "# Define a hover-text generating function (returns a list of strings)\n",
    "def make_text(X):\n",
    "    return 'Country: %s\\\n",
    "    <br>Life Expectancy: %s years\\\n",
    "    <br>Population: %s million'\\\n",
    "    % (X['Name'], X['LifeExpectancy'], X['Population']/1e6)\n",
    "\n",
    "# Define a trace-generating function (returns a Scatter object)\n",
    "def make_trace(X, continent, sizes, color):\n",
    "    return go.Scatter(\n",
    "        x=X['GNP'],  # GDP on the x-xaxis\n",
    "        y=X['LifeExpectancy'],    # life Exp on th y-axis\n",
    "        name=continent,    # label continent names on hover\n",
    "        mode='markers',    # (!) point markers only on this plot\n",
    "        text=X.apply(make_text, axis=1).tolist(),\n",
    "        marker= dict(\n",
    "            color=color,           # marker color\n",
    "            size=sizes,            # (!) marker sizes (sizes is a list)\n",
    "            sizeref=sizeref,       # link sizeref\n",
    "            sizemode=sizemode,     # link sizemode\n",
    "            opacity=0.6,           # (!) partly transparent markers\n",
    "            line= dict(width=3,color=\"white\")  # marker borders\n",
    "        )\n",
    "    )\n",
    "\n",
    "# Initialize data object \n",
    "data = []\n",
    "\n",
    "# Group data frame by continent sub-dataframe (named X), \n",
    "#   make one trace object per continent and append to data object\n",
    "for continent, X in df.groupby('Continent'):\n",
    "\n",
    "    sizes = X['Population']                 # get population array \n",
    "    color = colors[continent]               # get bubble color\n",
    "\n",
    "    data.append(\n",
    "        make_trace(X, continent, sizes, color)  # append trace to data object\n",
    "    )\n",
    "\n",
    "    # Set plot and axis titles\n",
    "title = \"Life expectancy vs GNP from MySQL world database (bubble chart)\"\n",
    "x_title = \"Gross National Product\"\n",
    "y_title = \"Life Expectancy [in years]\"\n",
    "\n",
    "# Define a dictionary of axis style options\n",
    "axis_style = dict(\n",
    "    type='log',\n",
    "    zeroline=False,       # remove thick zero line\n",
    "    gridcolor='#FFFFFF',  # white grid lines\n",
    "    ticks='outside',      # draw ticks outside axes \n",
    "    ticklen=8,            # tick length\n",
    "    tickwidth=1.5         #   and width\n",
    ")\n",
    "\n",
    "# Make layout object\n",
    "layout = go.Layout(\n",
    "    title=title,             # set plot title\n",
    "    plot_bgcolor='#EFECEA',  # set plot color to grey\n",
    "    hovermode=\"closest\",\n",
    "    xaxis=dict(\n",
    "        axis_style,      # add axis style dictionary\n",
    "        title=x_title,   # x-axis title\n",
    "        range=[2.0,7.2], # log of min and max x limits\n",
    "    ),\n",
    "    yaxis=dict(\n",
    "        axis_style,      # add axis style dictionary\n",
    "        title=y_title,   # y-axis title\n",
    "    )\n",
    ")\n",
    "\n",
    "# Make Figure object\n",
    "fig = go.Figure(data=data, layout=layout)\n",
    "\n",
    "# (@) Send to Plotly and show in notebook\n",
    "py.iplot(fig, filename='s3_life-gdp')"
   ]
  },
  {
   "cell_type": "code",
   "execution_count": null,
   "metadata": {},
   "outputs": [],
   "source": [
    "# # Make figure with subplots\n",
    "# fig = make_subplots(rows=1, cols=2, specs=[[{\"type\": \"bar\"},\n",
    "#                                             {\"type\": \"surface\"}]])\n",
    "\n",
    "# # Add bar traces to subplot (1, 1)\n",
    "# fig.add_trace(go.Bar(y=[2, 1, 3]), row=1, col=1)\n",
    "# fig.add_trace(go.Bar(y=[3, 2, 1]), row=1, col=1)\n",
    "# fig.add_trace(go.Bar(y=[2.5, 2.5, 3.5]), row=1, col=1)\n",
    "\n",
    "# # Add surface trace to subplot (1, 2)\n",
    "# # Read data from a csv\n",
    "# z_data = pd.read_csv(\"https://raw.githubusercontent.com/plotly/datasets/master/api_docs/mt_bruno_elevation.csv\")\n",
    "# fig.add_surface(z=z_data)\n",
    "\n",
    "# # Hide legend\n",
    "# fig.update_layout(\n",
    "#     showlegend=False,\n",
    "#     title_text=\"Default Theme\",\n",
    "#     height=500,\n",
    "#     width=800,\n",
    "# )\n",
    "\n",
    "# fig.show()"
   ]
  },
  {
   "cell_type": "code",
   "execution_count": null,
   "metadata": {},
   "outputs": [],
   "source": []
  },
  {
   "cell_type": "code",
   "execution_count": null,
   "metadata": {},
   "outputs": [],
   "source": [
    "conn = MySQLdb.connect(host=\"localhost\", user=\"root\", passwd=\"xxxx\", db=\"world\")\n",
    "cursor = conn.cursor()\n",
    "cursor.execute('select Name, Continent, Population, LifeExpectancy, GNP from Country');\n",
    "\n",
    "rows = cursor.fetchall()\n",
    "str(rows)[0:300]\n"
   ]
  }
 ],
 "metadata": {
  "kernelspec": {
   "display_name": "Python 3",
   "language": "python",
   "name": "python3"
  },
  "language_info": {
   "codemirror_mode": {
    "name": "ipython",
    "version": 3
   },
   "file_extension": ".py",
   "mimetype": "text/x-python",
   "name": "python",
   "nbconvert_exporter": "python",
   "pygments_lexer": "ipython3",
   "version": "3.7.4"
  }
 },
 "nbformat": 4,
 "nbformat_minor": 2
}
