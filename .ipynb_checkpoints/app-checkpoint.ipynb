{
 "cells": [
  {
   "cell_type": "code",
   "execution_count": 1,
   "metadata": {},
   "outputs": [],
   "source": [
    "from pandas.io.json import json_normalize\n"
   ]
  },
  {
   "cell_type": "code",
   "execution_count": 2,
   "metadata": {},
   "outputs": [
    {
     "name": "stdout",
     "output_type": "stream",
     "text": [
      "Requirement already satisfied: flask-cors in c:\\programdata\\anaconda3\\lib\\site-packages (3.0.8)\n",
      "Requirement already satisfied: Six in c:\\programdata\\anaconda3\\lib\\site-packages (from flask-cors) (1.12.0)\n",
      "Requirement already satisfied: Flask>=0.9 in c:\\programdata\\anaconda3\\lib\\site-packages (from flask-cors) (1.1.1)\n",
      "Requirement already satisfied: itsdangerous>=0.24 in c:\\programdata\\anaconda3\\lib\\site-packages (from Flask>=0.9->flask-cors) (1.1.0)\n",
      "Requirement already satisfied: click>=5.1 in c:\\programdata\\anaconda3\\lib\\site-packages (from Flask>=0.9->flask-cors) (7.0)\n",
      "Requirement already satisfied: Werkzeug>=0.15 in c:\\programdata\\anaconda3\\lib\\site-packages (from Flask>=0.9->flask-cors) (0.16.0)\n",
      "Requirement already satisfied: Jinja2>=2.10.1 in c:\\programdata\\anaconda3\\lib\\site-packages (from Flask>=0.9->flask-cors) (2.10.3)\n",
      "Requirement already satisfied: MarkupSafe>=0.23 in c:\\programdata\\anaconda3\\lib\\site-packages (from Jinja2>=2.10.1->Flask>=0.9->flask-cors) (1.1.1)\n",
      "Note: you may need to restart the kernel to use updated packages.\n"
     ]
    }
   ],
   "source": [
    "pip install flask-cors\n"
   ]
  },
  {
   "cell_type": "code",
   "execution_count": 3,
   "metadata": {},
   "outputs": [],
   "source": [
    "import pandas as pd\n",
    "import sqlalchemy\n",
    "import pymysql\n",
    "import sys\n",
    "pymysql.install_as_MySQLdb()"
   ]
  },
  {
   "cell_type": "code",
   "execution_count": 4,
   "metadata": {},
   "outputs": [],
   "source": [
    "\n",
    "from sqlalchemy import create_engine\n",
    "from sqlalchemy.ext.automap import automap_base\n",
    "from sqlalchemy.orm import Session\n"
   ]
  },
  {
   "cell_type": "code",
   "execution_count": 5,
   "metadata": {},
   "outputs": [],
   "source": [
    "from flask import (\n",
    "    Flask,\n",
    "    render_template,\n",
    "    jsonify,\n",
    "    request)"
   ]
  },
  {
   "cell_type": "code",
   "execution_count": 6,
   "metadata": {},
   "outputs": [],
   "source": [
    "from flask_cors import CORS"
   ]
  },
  {
   "cell_type": "code",
   "execution_count": 7,
   "metadata": {},
   "outputs": [],
   "source": [
    "from sqlalchemy import create_engine"
   ]
  },
  {
   "cell_type": "code",
   "execution_count": 8,
   "metadata": {},
   "outputs": [],
   "source": [
    "#Keep config file for our info. \n",
    "from config import remote_db_endpoint, remote_db_port\n",
    "from config import remote_gwsis_dbname, remote_gwsis_dbuser, remote_gwsis_dbpwd"
   ]
  },
  {
   "cell_type": "code",
   "execution_count": 9,
   "metadata": {},
   "outputs": [],
   "source": [
    "#Create Cloud DB Connection. \n",
    "engine = create_engine(f\"mysql+pymysql://{remote_gwsis_dbuser}:{remote_gwsis_dbpwd}@{remote_db_endpoint}:{remote_db_port}/{remote_gwsis_dbname}\")"
   ]
  },
  {
   "cell_type": "code",
   "execution_count": 10,
   "metadata": {},
   "outputs": [],
   "source": [
    "\n",
    "# Create remote DB connection.\n",
    "conn = engine.connect()   "
   ]
  },
  {
   "cell_type": "code",
   "execution_count": 11,
   "metadata": {},
   "outputs": [
    {
     "data": {
      "text/plain": [
       "<flask_cors.extension.CORS at 0x239dac9b588>"
      ]
     },
     "execution_count": 11,
     "metadata": {},
     "output_type": "execute_result"
    }
   ],
   "source": [
    "app = Flask(__name__)\n",
    "CORS(app)\n",
    "\n",
    "#app.config['SQLALCHEMY_DATABASE_URI'] = \"\"\n",
    "\n",
    "#db = SQLAlchemy(app)"
   ]
  },
  {
   "cell_type": "code",
   "execution_count": null,
   "metadata": {},
   "outputs": [],
   "source": []
  },
  {
   "cell_type": "code",
   "execution_count": null,
   "metadata": {},
   "outputs": [],
   "source": []
  },
  {
   "cell_type": "code",
   "execution_count": null,
   "metadata": {
    "scrolled": false
   },
   "outputs": [
    {
     "name": "stdout",
     "output_type": "stream",
     "text": [
      " * Serving Flask app \"__main__\" (lazy loading)\n",
      " * Environment: production\n",
      "   WARNING: This is a development server. Do not use it in a production deployment.\n",
      "   Use a production WSGI server instead.\n",
      " * Debug mode: off\n"
     ]
    },
    {
     "name": "stderr",
     "output_type": "stream",
     "text": [
      " * Running on http://127.0.0.1:5000/ (Press CTRL+C to quit)\n",
      "127.0.0.1 - - [01/Feb/2020 20:57:31] \"OPTIONS /postjson HTTP/1.1\" 200 -\n",
      "127.0.0.1 - - [01/Feb/2020 20:57:31] \"POST /postjson HTTP/1.1\" 200 -\n"
     ]
    },
    {
     "name": "stdout",
     "output_type": "stream",
     "text": [
      "True\n",
      "{'categoryvsvalue_Bar': 'b. Education and Health Services', 'valuevslocation_filledmap': 'b. Pennsylvania', 'valuevstime_rings': 'c. 2012', 'comparisonbars': 'a. Above', 'categoryvsvalue_bubble': 'a.\\tProfessional and Business Services', 'valuevslocation_bars': 'c. PA', 'valuevsvalue_bubble': 'c. Arizona', 'valuevstime_Table': 'c. 2013', 'comparison_chart': 'a. Below', 'categoryvsvalue_tree': 'c. Local Government', 'valuevsvalue_scatter': 'c. CT', 'comparison_pie': 'a. Below', 'valuevstime_line': 'a. 2012', 'valuevslocation_map': 'd. Massachusetts', 'categoryvsvalue_pie': 'd. Trade, Transportation, and Utilities'}\n",
      "                            0                                        1\n",
      "0         categoryvsvalue_Bar         b. Education and Health Services\n",
      "1   valuevslocation_filledmap                          b. Pennsylvania\n",
      "2           valuevstime_rings                                  c. 2012\n",
      "3              comparisonbars                                 a. Above\n",
      "4      categoryvsvalue_bubble   a.\\tProfessional and Business Services\n",
      "5        valuevslocation_bars                                    c. PA\n",
      "6         valuevsvalue_bubble                               c. Arizona\n",
      "7           valuevstime_Table                                  c. 2013\n",
      "8            comparison_chart                                 a. Below\n",
      "9        categoryvsvalue_tree                      c. Local Government\n",
      "10       valuevsvalue_scatter                                    c. CT\n",
      "11             comparison_pie                                 a. Below\n",
      "12           valuevstime_line                                  a. 2012\n",
      "13        valuevslocation_map                         d. Massachusetts\n",
      "14        categoryvsvalue_pie  d. Trade, Transportation, and Utilities\n"
     ]
    }
   ],
   "source": [
    "\n",
    "@app.route('/postjson', methods = ['POST'])\n",
    "def postJsonHandler():\n",
    "    print (request.is_json)\n",
    "    content = request.get_json()\n",
    "    print(content)\n",
    "  \n",
    "    con_list = list(content.items())  # d.items ()\n",
    "    survey_df = pd.DataFrame(con_list)\n",
    "    survey_df.columns = [\"Data_Type\", \"Chart_Type\"]\n",
    "    \n",
    "    print (survey_df)\n",
    "       \n",
    "    #[print(key, value) for key, value in content.items()] \n",
    "  \n",
    "\n",
    "    survey_df.to_sql(con=conn, name='survey_results', if_exists='append')\n",
    "    session.commit()\n",
    "    return jsonify(content)\n",
    "\n",
    "\n",
    "\n",
    "\n",
    "\n",
    "\n",
    " \n",
    "\n",
    "    \n",
    "    \n",
    "#     for key, value in content.items():\n",
    "#         setattr(survey_results, key, value) \n",
    "\n",
    "\n",
    "app.run(host='127.0.0.1', port= 5000)"
   ]
  },
  {
   "cell_type": "code",
   "execution_count": null,
   "metadata": {},
   "outputs": [],
   "source": []
  },
  {
   "cell_type": "code",
   "execution_count": null,
   "metadata": {},
   "outputs": [],
   "source": [
    "\n"
   ]
  },
  {
   "cell_type": "code",
   "execution_count": null,
   "metadata": {},
   "outputs": [],
   "source": [
    "parsed = json.loads(content)\n",
    "print json.dumps(parsed, indent=4, sort_keys=True)"
   ]
  },
  {
   "cell_type": "code",
   "execution_count": null,
   "metadata": {},
   "outputs": [],
   "source": [
    "\n",
    "# def update_survey():\n",
    "#     orders_entries = []\n",
    "#     for orders in data[\"all_orders\"]:\n",
    "#         new_entry = SalesOrders(order_id=orders['id'],\n",
    "#                                 order_number=orders['number'])\n",
    "#         orders_entries.append(new_entry)\n",
    "#     db.session.add_all(orders_entries)\n",
    "#     db.session.commit()\n",
    "\n",
    "\n",
    "# if __name__ == \"__main__\":\n",
    "#     app.run(debug=True)"
   ]
  },
  {
   "cell_type": "code",
   "execution_count": null,
   "metadata": {},
   "outputs": [],
   "source": [
    "# @app.route(\"/send\", methods=[\"GET\", \"POST\"])\n",
    "# def send():\n",
    "#     if request.method == \"POST\":\n",
    "#         nickname = request.form[\"nickname\"]\n",
    "#         age = request.form[\"age\"]\n",
    "#         pet = Pet(nickname=nickname, age=age)\n",
    "#         db.session.add(pet)\n",
    "#         db.session.commit()\n",
    "\n",
    "#         return \"Thanks for the form data!\"\n",
    "\n",
    "#     return render_template(\"form.html\")"
   ]
  }
 ],
 "metadata": {
  "kernelspec": {
   "display_name": "Python 3",
   "language": "python",
   "name": "python3"
  },
  "language_info": {
   "codemirror_mode": {
    "name": "ipython",
    "version": 3
   },
   "file_extension": ".py",
   "mimetype": "text/x-python",
   "name": "python",
   "nbconvert_exporter": "python",
   "pygments_lexer": "ipython3",
   "version": "3.7.4"
  }
 },
 "nbformat": 4,
 "nbformat_minor": 2
}
